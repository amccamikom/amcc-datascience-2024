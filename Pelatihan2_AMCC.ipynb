{
  "nbformat": 4,
  "nbformat_minor": 0,
  "metadata": {
    "colab": {
      "provenance": [],
      "toc_visible": true
    },
    "kernelspec": {
      "name": "python3",
      "display_name": "Python 3"
    },
    "language_info": {
      "name": "python"
    }
  },
  "cells": [
    {
      "cell_type": "markdown",
      "source": [
        "======================================\n",
        "# Bagian 1: Operasi Matematika Dasar dengan Python\n",
        "======================================"
      ],
      "metadata": {
        "id": "ZCB1q0Dz4z-r"
      }
    },
    {
      "cell_type": "code",
      "execution_count": null,
      "metadata": {
        "colab": {
          "base_uri": "https://localhost:8080/"
        },
        "id": "5-AItMbM4rZ8",
        "outputId": "ef0738aa-216f-454b-b0e3-3cf90fc30556"
      },
      "outputs": [
        {
          "output_type": "stream",
          "name": "stdout",
          "text": [
            "=== Operasi Matematika Dasar dengan Python ===\n",
            "Penjumlahan (6 + 2): 8\n",
            "Pengurangan (6 - 2): 4\n",
            "Perkalian (6 * 2): 12\n",
            "Pembagian (6 / 2): 3.0\n",
            "Pangkat (6 ** 2): 36\n",
            "Modulus (6 % 2): 0\n",
            "Pembagian Bulat (6 // 2): 3\n"
          ]
        }
      ],
      "source": [
        "print(\"=== Operasi Matematika Dasar dengan Python ===\")\n",
        "a, b = 6, 2  # Contoh variabel\n",
        "print(f\"Penjumlahan ({a} + {b}):\", a + b)\n",
        "print(f\"Pengurangan ({a} - {b}):\", a - b)\n",
        "print(f\"Perkalian ({a} * {b}):\", a * b)\n",
        "print(f\"Pembagian ({a} / {b}):\", a / b)\n",
        "print(f\"Pangkat ({a} ** {b}):\", a ** b)\n",
        "print(f\"Modulus ({a} % {b}):\", a % b)\n",
        "print(f\"Pembagian Bulat ({a} // {b}):\", a // b)\n"
      ]
    },
    {
      "cell_type": "markdown",
      "source": [
        "# Numpy"
      ],
      "metadata": {
        "id": "fu0Kdh6G5BdA"
      }
    },
    {
      "cell_type": "markdown",
      "source": [
        " ======================================\n",
        "# Bagian 2: Mengenal Library Numpy\n",
        " ======================================"
      ],
      "metadata": {
        "id": "MXTHZzY25N6B"
      }
    },
    {
      "cell_type": "markdown",
      "source": [],
      "metadata": {
        "id": "nRybMPIw5wMJ"
      }
    },
    {
      "cell_type": "markdown",
      "source": [
        "## Array"
      ],
      "metadata": {
        "id": "wrUT_ZH-5x7H"
      }
    },
    {
      "cell_type": "code",
      "source": [
        "import numpy as np\n",
        "\n",
        "print(\"\\n=== Pengenalan Library Numpy ===\")\n",
        "\n",
        "# Membuat Array 1D dan 2D\n",
        "array_1d = np.array([1, 2, 3, 4])\n",
        "array_2d = np.array([[1, 2], [3, 4]])\n",
        "print(\"Array 1D:\", array_1d)\n",
        "print(\"Array 2D:\\n\", array_2d)\n"
      ],
      "metadata": {
        "colab": {
          "base_uri": "https://localhost:8080/"
        },
        "id": "GzyDzfVz5C94",
        "outputId": "47fd2c05-d7c4-42a6-fceb-91de137251d8"
      },
      "execution_count": null,
      "outputs": [
        {
          "output_type": "stream",
          "name": "stdout",
          "text": [
            "\n",
            "=== Pengenalan Library Numpy ===\n",
            "Array 1D: [1 2 3 4]\n",
            "Array 2D:\n",
            " [[1 2]\n",
            " [3 4]]\n"
          ]
        }
      ]
    },
    {
      "cell_type": "markdown",
      "source": [
        "## Arrange dan linspace"
      ],
      "metadata": {
        "id": "JUJa1N4B50Yf"
      }
    },
    {
      "cell_type": "code",
      "source": [
        "# Operasi dengan Numpy\n",
        "print(\"\\n=== Operasi dengan Numpy ===\")\n",
        "print(\"np.arange(0, 10, 2):\", np.arange(0, 10, 2))\n",
        "print(\"np.linspace(0, 1, 5):\", np.linspace(0, 1, 5))\n",
        "reshaped_array = np.arange(6).reshape(2, 3)\n",
        "print(\"np.reshape():\\n\", reshaped_array)\n"
      ],
      "metadata": {
        "colab": {
          "base_uri": "https://localhost:8080/"
        },
        "id": "F9cjSZnB5Hjz",
        "outputId": "85608356-a81a-48fe-b663-b1d449ea9fd7"
      },
      "execution_count": null,
      "outputs": [
        {
          "output_type": "stream",
          "name": "stdout",
          "text": [
            "\n",
            "=== Operasi dengan Numpy ===\n",
            "np.arange(0, 10, 2): [0 2 4 6 8]\n",
            "np.linspace(0, 1, 5): [0.   0.25 0.5  0.75 1.  ]\n",
            "np.reshape():\n",
            " [[0 1 2]\n",
            " [3 4 5]]\n"
          ]
        }
      ]
    },
    {
      "cell_type": "markdown",
      "source": [
        "## statistik numpy"
      ],
      "metadata": {
        "id": "1JvxMKob53zj"
      }
    },
    {
      "cell_type": "code",
      "source": [
        "# Statistik\n",
        "array = np.array([1, 2, 3, 4, 5])\n",
        "print(\"\\nStatistik dengan Numpy:\")\n",
        "print(\"Mean:\", np.mean(array))\n",
        "print(\"Median:\", np.median(array))\n",
        "print(\"Standar Deviasi:\", np.std(array))"
      ],
      "metadata": {
        "colab": {
          "base_uri": "https://localhost:8080/"
        },
        "id": "igxuc1AV5J6h",
        "outputId": "3b7a00ab-4cf1-4d8a-94d3-b39d4c5f4e8b"
      },
      "execution_count": null,
      "outputs": [
        {
          "output_type": "stream",
          "name": "stdout",
          "text": [
            "\n",
            "Statistik dengan Numpy:\n",
            "Mean: 3.0\n",
            "Median: 3.0\n",
            "Standar Deviasi: 1.4142135623730951\n"
          ]
        }
      ]
    },
    {
      "cell_type": "markdown",
      "source": [
        "# Pandas"
      ],
      "metadata": {
        "id": "wZxqZ0WL5OTU"
      }
    },
    {
      "cell_type": "markdown",
      "source": [
        " ======================================\n",
        "# Bagian 3: Mengenal Library Pandas\n",
        " ======================================"
      ],
      "metadata": {
        "id": "9yBow8Ww5kNs"
      }
    },
    {
      "cell_type": "code",
      "source": [
        "import pandas as pd\n",
        "\n",
        "print(\"\\n=== Pengenalan Library Pandas ===\")\n",
        "\n",
        "# Membuat DataFrame Sederhana\n",
        "data = {\n",
        "    \"Nama\": [\"Isvi\", \"Nisa\", \"Nawa\", \"Dekhsa\",\"ulil\",\"zayga\"],\n",
        "    \"Nilai\": [85, 90, 78, 92, 87, 80],\n",
        "    \"Kelas\": [\"A\", \"B\", \"A\", \"B\", \"A\", \"B\"]\n",
        "}\n",
        "df = pd.DataFrame(data)\n",
        "print(\"DataFrame:\\n\", df)"
      ],
      "metadata": {
        "colab": {
          "base_uri": "https://localhost:8080/"
        },
        "id": "cchHKOYq5QMq",
        "outputId": "f0eb1a0d-b58c-4f2a-a41c-1054d2c32dd2"
      },
      "execution_count": null,
      "outputs": [
        {
          "output_type": "stream",
          "name": "stdout",
          "text": [
            "\n",
            "=== Pengenalan Library Pandas ===\n",
            "DataFrame:\n",
            "      Nama  Nilai Kelas\n",
            "0    Isvi     85     A\n",
            "1    Nisa     90     B\n",
            "2    Nawa     78     A\n",
            "3  Dekhsa     92     B\n",
            "4    ulil     87     A\n",
            "5   zayga     80     B\n"
          ]
        }
      ]
    },
    {
      "cell_type": "markdown",
      "source": [
        "## Operasi dengan Pandas"
      ],
      "metadata": {
        "id": "K3JttyB45-Z2"
      }
    },
    {
      "cell_type": "code",
      "source": [
        "# Operasi dengan Pandas\n",
        "print(\"\\n=== Operasi dengan Pandas ===\")\n",
        "print(\"Menampilkan 3 Baris Pertama:\")\n",
        "print(df.head(3))"
      ],
      "metadata": {
        "colab": {
          "base_uri": "https://localhost:8080/"
        },
        "id": "VJjYxCK05p3q",
        "outputId": "43d6cee4-e72f-465f-9142-9e9b23909843"
      },
      "execution_count": null,
      "outputs": [
        {
          "output_type": "stream",
          "name": "stdout",
          "text": [
            "\n",
            "=== Operasi dengan Pandas ===\n",
            "Menampilkan 3 Baris Pertama:\n",
            "   Nama  Nilai Kelas\n",
            "0  Isvi     85     A\n",
            "1  Nisa     90     B\n",
            "2  Nawa     78     A\n"
          ]
        }
      ]
    },
    {
      "cell_type": "markdown",
      "source": [
        "## Deskripsi Statistik"
      ],
      "metadata": {
        "id": "XotWUQni6BnA"
      }
    },
    {
      "cell_type": "code",
      "source": [
        "print(\"\\nDeskripsi Statistik:\")\n",
        "df.describe()"
      ],
      "metadata": {
        "colab": {
          "base_uri": "https://localhost:8080/",
          "height": 335
        },
        "id": "TqqG3igk5sxL",
        "outputId": "c2c68f63-710e-49b2-e930-e6e7019ace68"
      },
      "execution_count": null,
      "outputs": [
        {
          "output_type": "stream",
          "name": "stdout",
          "text": [
            "\n",
            "Deskripsi Statistik:\n"
          ]
        },
        {
          "output_type": "execute_result",
          "data": {
            "text/plain": [
              "           Nilai\n",
              "count   6.000000\n",
              "mean   85.333333\n",
              "std     5.501515\n",
              "min    78.000000\n",
              "25%    81.250000\n",
              "50%    86.000000\n",
              "75%    89.250000\n",
              "max    92.000000"
            ],
            "text/html": [
              "\n",
              "  <div id=\"df-fec17d88-49de-4a0a-b02d-be3e33a36a91\" class=\"colab-df-container\">\n",
              "    <div>\n",
              "<style scoped>\n",
              "    .dataframe tbody tr th:only-of-type {\n",
              "        vertical-align: middle;\n",
              "    }\n",
              "\n",
              "    .dataframe tbody tr th {\n",
              "        vertical-align: top;\n",
              "    }\n",
              "\n",
              "    .dataframe thead th {\n",
              "        text-align: right;\n",
              "    }\n",
              "</style>\n",
              "<table border=\"1\" class=\"dataframe\">\n",
              "  <thead>\n",
              "    <tr style=\"text-align: right;\">\n",
              "      <th></th>\n",
              "      <th>Nilai</th>\n",
              "    </tr>\n",
              "  </thead>\n",
              "  <tbody>\n",
              "    <tr>\n",
              "      <th>count</th>\n",
              "      <td>6.000000</td>\n",
              "    </tr>\n",
              "    <tr>\n",
              "      <th>mean</th>\n",
              "      <td>85.333333</td>\n",
              "    </tr>\n",
              "    <tr>\n",
              "      <th>std</th>\n",
              "      <td>5.501515</td>\n",
              "    </tr>\n",
              "    <tr>\n",
              "      <th>min</th>\n",
              "      <td>78.000000</td>\n",
              "    </tr>\n",
              "    <tr>\n",
              "      <th>25%</th>\n",
              "      <td>81.250000</td>\n",
              "    </tr>\n",
              "    <tr>\n",
              "      <th>50%</th>\n",
              "      <td>86.000000</td>\n",
              "    </tr>\n",
              "    <tr>\n",
              "      <th>75%</th>\n",
              "      <td>89.250000</td>\n",
              "    </tr>\n",
              "    <tr>\n",
              "      <th>max</th>\n",
              "      <td>92.000000</td>\n",
              "    </tr>\n",
              "  </tbody>\n",
              "</table>\n",
              "</div>\n",
              "    <div class=\"colab-df-buttons\">\n",
              "\n",
              "  <div class=\"colab-df-container\">\n",
              "    <button class=\"colab-df-convert\" onclick=\"convertToInteractive('df-fec17d88-49de-4a0a-b02d-be3e33a36a91')\"\n",
              "            title=\"Convert this dataframe to an interactive table.\"\n",
              "            style=\"display:none;\">\n",
              "\n",
              "  <svg xmlns=\"http://www.w3.org/2000/svg\" height=\"24px\" viewBox=\"0 -960 960 960\">\n",
              "    <path d=\"M120-120v-720h720v720H120Zm60-500h600v-160H180v160Zm220 220h160v-160H400v160Zm0 220h160v-160H400v160ZM180-400h160v-160H180v160Zm440 0h160v-160H620v160ZM180-180h160v-160H180v160Zm440 0h160v-160H620v160Z\"/>\n",
              "  </svg>\n",
              "    </button>\n",
              "\n",
              "  <style>\n",
              "    .colab-df-container {\n",
              "      display:flex;\n",
              "      gap: 12px;\n",
              "    }\n",
              "\n",
              "    .colab-df-convert {\n",
              "      background-color: #E8F0FE;\n",
              "      border: none;\n",
              "      border-radius: 50%;\n",
              "      cursor: pointer;\n",
              "      display: none;\n",
              "      fill: #1967D2;\n",
              "      height: 32px;\n",
              "      padding: 0 0 0 0;\n",
              "      width: 32px;\n",
              "    }\n",
              "\n",
              "    .colab-df-convert:hover {\n",
              "      background-color: #E2EBFA;\n",
              "      box-shadow: 0px 1px 2px rgba(60, 64, 67, 0.3), 0px 1px 3px 1px rgba(60, 64, 67, 0.15);\n",
              "      fill: #174EA6;\n",
              "    }\n",
              "\n",
              "    .colab-df-buttons div {\n",
              "      margin-bottom: 4px;\n",
              "    }\n",
              "\n",
              "    [theme=dark] .colab-df-convert {\n",
              "      background-color: #3B4455;\n",
              "      fill: #D2E3FC;\n",
              "    }\n",
              "\n",
              "    [theme=dark] .colab-df-convert:hover {\n",
              "      background-color: #434B5C;\n",
              "      box-shadow: 0px 1px 3px 1px rgba(0, 0, 0, 0.15);\n",
              "      filter: drop-shadow(0px 1px 2px rgba(0, 0, 0, 0.3));\n",
              "      fill: #FFFFFF;\n",
              "    }\n",
              "  </style>\n",
              "\n",
              "    <script>\n",
              "      const buttonEl =\n",
              "        document.querySelector('#df-fec17d88-49de-4a0a-b02d-be3e33a36a91 button.colab-df-convert');\n",
              "      buttonEl.style.display =\n",
              "        google.colab.kernel.accessAllowed ? 'block' : 'none';\n",
              "\n",
              "      async function convertToInteractive(key) {\n",
              "        const element = document.querySelector('#df-fec17d88-49de-4a0a-b02d-be3e33a36a91');\n",
              "        const dataTable =\n",
              "          await google.colab.kernel.invokeFunction('convertToInteractive',\n",
              "                                                    [key], {});\n",
              "        if (!dataTable) return;\n",
              "\n",
              "        const docLinkHtml = 'Like what you see? Visit the ' +\n",
              "          '<a target=\"_blank\" href=https://colab.research.google.com/notebooks/data_table.ipynb>data table notebook</a>'\n",
              "          + ' to learn more about interactive tables.';\n",
              "        element.innerHTML = '';\n",
              "        dataTable['output_type'] = 'display_data';\n",
              "        await google.colab.output.renderOutput(dataTable, element);\n",
              "        const docLink = document.createElement('div');\n",
              "        docLink.innerHTML = docLinkHtml;\n",
              "        element.appendChild(docLink);\n",
              "      }\n",
              "    </script>\n",
              "  </div>\n",
              "\n",
              "\n",
              "<div id=\"df-49153cf0-298a-4584-bfcf-5a5baea1f150\">\n",
              "  <button class=\"colab-df-quickchart\" onclick=\"quickchart('df-49153cf0-298a-4584-bfcf-5a5baea1f150')\"\n",
              "            title=\"Suggest charts\"\n",
              "            style=\"display:none;\">\n",
              "\n",
              "<svg xmlns=\"http://www.w3.org/2000/svg\" height=\"24px\"viewBox=\"0 0 24 24\"\n",
              "     width=\"24px\">\n",
              "    <g>\n",
              "        <path d=\"M19 3H5c-1.1 0-2 .9-2 2v14c0 1.1.9 2 2 2h14c1.1 0 2-.9 2-2V5c0-1.1-.9-2-2-2zM9 17H7v-7h2v7zm4 0h-2V7h2v10zm4 0h-2v-4h2v4z\"/>\n",
              "    </g>\n",
              "</svg>\n",
              "  </button>\n",
              "\n",
              "<style>\n",
              "  .colab-df-quickchart {\n",
              "      --bg-color: #E8F0FE;\n",
              "      --fill-color: #1967D2;\n",
              "      --hover-bg-color: #E2EBFA;\n",
              "      --hover-fill-color: #174EA6;\n",
              "      --disabled-fill-color: #AAA;\n",
              "      --disabled-bg-color: #DDD;\n",
              "  }\n",
              "\n",
              "  [theme=dark] .colab-df-quickchart {\n",
              "      --bg-color: #3B4455;\n",
              "      --fill-color: #D2E3FC;\n",
              "      --hover-bg-color: #434B5C;\n",
              "      --hover-fill-color: #FFFFFF;\n",
              "      --disabled-bg-color: #3B4455;\n",
              "      --disabled-fill-color: #666;\n",
              "  }\n",
              "\n",
              "  .colab-df-quickchart {\n",
              "    background-color: var(--bg-color);\n",
              "    border: none;\n",
              "    border-radius: 50%;\n",
              "    cursor: pointer;\n",
              "    display: none;\n",
              "    fill: var(--fill-color);\n",
              "    height: 32px;\n",
              "    padding: 0;\n",
              "    width: 32px;\n",
              "  }\n",
              "\n",
              "  .colab-df-quickchart:hover {\n",
              "    background-color: var(--hover-bg-color);\n",
              "    box-shadow: 0 1px 2px rgba(60, 64, 67, 0.3), 0 1px 3px 1px rgba(60, 64, 67, 0.15);\n",
              "    fill: var(--button-hover-fill-color);\n",
              "  }\n",
              "\n",
              "  .colab-df-quickchart-complete:disabled,\n",
              "  .colab-df-quickchart-complete:disabled:hover {\n",
              "    background-color: var(--disabled-bg-color);\n",
              "    fill: var(--disabled-fill-color);\n",
              "    box-shadow: none;\n",
              "  }\n",
              "\n",
              "  .colab-df-spinner {\n",
              "    border: 2px solid var(--fill-color);\n",
              "    border-color: transparent;\n",
              "    border-bottom-color: var(--fill-color);\n",
              "    animation:\n",
              "      spin 1s steps(1) infinite;\n",
              "  }\n",
              "\n",
              "  @keyframes spin {\n",
              "    0% {\n",
              "      border-color: transparent;\n",
              "      border-bottom-color: var(--fill-color);\n",
              "      border-left-color: var(--fill-color);\n",
              "    }\n",
              "    20% {\n",
              "      border-color: transparent;\n",
              "      border-left-color: var(--fill-color);\n",
              "      border-top-color: var(--fill-color);\n",
              "    }\n",
              "    30% {\n",
              "      border-color: transparent;\n",
              "      border-left-color: var(--fill-color);\n",
              "      border-top-color: var(--fill-color);\n",
              "      border-right-color: var(--fill-color);\n",
              "    }\n",
              "    40% {\n",
              "      border-color: transparent;\n",
              "      border-right-color: var(--fill-color);\n",
              "      border-top-color: var(--fill-color);\n",
              "    }\n",
              "    60% {\n",
              "      border-color: transparent;\n",
              "      border-right-color: var(--fill-color);\n",
              "    }\n",
              "    80% {\n",
              "      border-color: transparent;\n",
              "      border-right-color: var(--fill-color);\n",
              "      border-bottom-color: var(--fill-color);\n",
              "    }\n",
              "    90% {\n",
              "      border-color: transparent;\n",
              "      border-bottom-color: var(--fill-color);\n",
              "    }\n",
              "  }\n",
              "</style>\n",
              "\n",
              "  <script>\n",
              "    async function quickchart(key) {\n",
              "      const quickchartButtonEl =\n",
              "        document.querySelector('#' + key + ' button');\n",
              "      quickchartButtonEl.disabled = true;  // To prevent multiple clicks.\n",
              "      quickchartButtonEl.classList.add('colab-df-spinner');\n",
              "      try {\n",
              "        const charts = await google.colab.kernel.invokeFunction(\n",
              "            'suggestCharts', [key], {});\n",
              "      } catch (error) {\n",
              "        console.error('Error during call to suggestCharts:', error);\n",
              "      }\n",
              "      quickchartButtonEl.classList.remove('colab-df-spinner');\n",
              "      quickchartButtonEl.classList.add('colab-df-quickchart-complete');\n",
              "    }\n",
              "    (() => {\n",
              "      let quickchartButtonEl =\n",
              "        document.querySelector('#df-49153cf0-298a-4584-bfcf-5a5baea1f150 button');\n",
              "      quickchartButtonEl.style.display =\n",
              "        google.colab.kernel.accessAllowed ? 'block' : 'none';\n",
              "    })();\n",
              "  </script>\n",
              "</div>\n",
              "\n",
              "    </div>\n",
              "  </div>\n"
            ],
            "application/vnd.google.colaboratory.intrinsic+json": {
              "type": "dataframe",
              "summary": "{\n  \"name\": \"df\",\n  \"rows\": 8,\n  \"fields\": [\n    {\n      \"column\": \"Nilai\",\n      \"properties\": {\n        \"dtype\": \"number\",\n        \"std\": 37.07954579955546,\n        \"min\": 5.501514942874069,\n        \"max\": 92.0,\n        \"num_unique_values\": 8,\n        \"samples\": [\n          85.33333333333333,\n          86.0,\n          6.0\n        ],\n        \"semantic_type\": \"\",\n        \"description\": \"\"\n      }\n    }\n  ]\n}"
            }
          },
          "metadata": {},
          "execution_count": 10
        }
      ]
    },
    {
      "cell_type": "markdown",
      "source": [
        "## Grouping dan Agregasi"
      ],
      "metadata": {
        "id": "oeLrLMMu6Dzr"
      }
    },
    {
      "cell_type": "code",
      "source": [
        "# Grouping dan Agregasi\n",
        "print(\"\\nMengelompokkan Data Berdasarkan 'Kelas':\")\n",
        "print(df.groupby(\"Kelas\")[\"Nilai\"].mean())"
      ],
      "metadata": {
        "colab": {
          "base_uri": "https://localhost:8080/"
        },
        "id": "glDhwmD25xmF",
        "outputId": "698253f3-01f2-42f5-a708-a8bcca8e61cf"
      },
      "execution_count": null,
      "outputs": [
        {
          "output_type": "stream",
          "name": "stdout",
          "text": [
            "\n",
            "Mengelompokkan Data Berdasarkan 'Kelas':\n",
            "Kelas\n",
            "A    83.333333\n",
            "B    87.333333\n",
            "Name: Nilai, dtype: float64\n"
          ]
        }
      ]
    },
    {
      "cell_type": "markdown",
      "source": [
        "## Mengecek dan Mengisi Data Kosong"
      ],
      "metadata": {
        "id": "QDMixLYd6GQp"
      }
    },
    {
      "cell_type": "code",
      "source": [
        "# Mengecek dan Mengisi Data Kosong\n",
        "df_with_nan = df.copy()\n",
        "df_with_nan.loc[2, \"Nilai\"] = None  # Menambahkan nilai NaN\n",
        "print(\"\\nData dengan Nilai Kosong:\\n\", df_with_nan)\n",
        "print(\"Cek Nilai Kosong:\\n\", df_with_nan.isnull())\n",
        "print(\"\\nMengisi Nilai Kosong dengan 0:\")\n",
        "df_with_nan.fillna(0, inplace=True)\n",
        "print(df_with_nan)"
      ],
      "metadata": {
        "colab": {
          "base_uri": "https://localhost:8080/"
        },
        "id": "GExIa7Om51lu",
        "outputId": "e656994f-493a-49c7-a985-34ccdecbd753"
      },
      "execution_count": null,
      "outputs": [
        {
          "output_type": "stream",
          "name": "stdout",
          "text": [
            "\n",
            "Data dengan Nilai Kosong:\n",
            "      Nama  Nilai Kelas\n",
            "0    Isvi   85.0     A\n",
            "1    Nisa   90.0     B\n",
            "2    Nawa    NaN     A\n",
            "3  Dekhsa   92.0     B\n",
            "4    ulil   87.0     A\n",
            "5   zayga   80.0     B\n",
            "Cek Nilai Kosong:\n",
            "     Nama  Nilai  Kelas\n",
            "0  False  False  False\n",
            "1  False  False  False\n",
            "2  False   True  False\n",
            "3  False  False  False\n",
            "4  False  False  False\n",
            "5  False  False  False\n",
            "\n",
            "Mengisi Nilai Kosong dengan 0:\n",
            "     Nama  Nilai Kelas\n",
            "0    Isvi   85.0     A\n",
            "1    Nisa   90.0     B\n",
            "2    Nawa    0.0     A\n",
            "3  Dekhsa   92.0     B\n",
            "4    ulil   87.0     A\n",
            "5   zayga   80.0     B\n"
          ]
        }
      ]
    },
    {
      "cell_type": "markdown",
      "source": [
        " ======================================\n",
        "# Bagian 4: Contoh Implementasi untuk Data Science\n",
        " ======================================"
      ],
      "metadata": {
        "id": "egr0BpAP6Jtb"
      }
    },
    {
      "cell_type": "markdown",
      "source": [
        "## Membaca File CSV"
      ],
      "metadata": {
        "id": "x8yiMod66PVl"
      }
    },
    {
      "cell_type": "code",
      "source": [
        "print(\"\\n=== Contoh Implementasi Data Science ===\")\n",
        "\n",
        "\n",
        "# Pastikan untuk mengunggah file CSV di Google Colab sebelum menjalankan ini.\n",
        "# Anda dapat menggunakan file contoh: https://people.sc.fsu.edu/~jburkardt/data/csv/hw_200.csv\n",
        "\n",
        "from google.colab import files\n",
        "uploaded = files.upload()  # Mengunggah file CSV\n",
        "\n",
        "# Membaca file yang diunggah\n",
        "file_name = list(uploaded.keys())[0]\n",
        "df_csv = pd.read_csv(file_name)"
      ],
      "metadata": {
        "colab": {
          "base_uri": "https://localhost:8080/",
          "height": 107
        },
        "id": "aH6Fuccb54b0",
        "outputId": "7d96add2-c2b9-4cc5-e16e-503312c04c71"
      },
      "execution_count": null,
      "outputs": [
        {
          "output_type": "stream",
          "name": "stdout",
          "text": [
            "\n",
            "=== Contoh Implementasi Data Science ===\n"
          ]
        },
        {
          "output_type": "display_data",
          "data": {
            "text/plain": [
              "<IPython.core.display.HTML object>"
            ],
            "text/html": [
              "\n",
              "     <input type=\"file\" id=\"files-69e28ad8-4b6d-411f-9076-cd969874e051\" name=\"files[]\" multiple disabled\n",
              "        style=\"border:none\" />\n",
              "     <output id=\"result-69e28ad8-4b6d-411f-9076-cd969874e051\">\n",
              "      Upload widget is only available when the cell has been executed in the\n",
              "      current browser session. Please rerun this cell to enable.\n",
              "      </output>\n",
              "      <script>// Copyright 2017 Google LLC\n",
              "//\n",
              "// Licensed under the Apache License, Version 2.0 (the \"License\");\n",
              "// you may not use this file except in compliance with the License.\n",
              "// You may obtain a copy of the License at\n",
              "//\n",
              "//      http://www.apache.org/licenses/LICENSE-2.0\n",
              "//\n",
              "// Unless required by applicable law or agreed to in writing, software\n",
              "// distributed under the License is distributed on an \"AS IS\" BASIS,\n",
              "// WITHOUT WARRANTIES OR CONDITIONS OF ANY KIND, either express or implied.\n",
              "// See the License for the specific language governing permissions and\n",
              "// limitations under the License.\n",
              "\n",
              "/**\n",
              " * @fileoverview Helpers for google.colab Python module.\n",
              " */\n",
              "(function(scope) {\n",
              "function span(text, styleAttributes = {}) {\n",
              "  const element = document.createElement('span');\n",
              "  element.textContent = text;\n",
              "  for (const key of Object.keys(styleAttributes)) {\n",
              "    element.style[key] = styleAttributes[key];\n",
              "  }\n",
              "  return element;\n",
              "}\n",
              "\n",
              "// Max number of bytes which will be uploaded at a time.\n",
              "const MAX_PAYLOAD_SIZE = 100 * 1024;\n",
              "\n",
              "function _uploadFiles(inputId, outputId) {\n",
              "  const steps = uploadFilesStep(inputId, outputId);\n",
              "  const outputElement = document.getElementById(outputId);\n",
              "  // Cache steps on the outputElement to make it available for the next call\n",
              "  // to uploadFilesContinue from Python.\n",
              "  outputElement.steps = steps;\n",
              "\n",
              "  return _uploadFilesContinue(outputId);\n",
              "}\n",
              "\n",
              "// This is roughly an async generator (not supported in the browser yet),\n",
              "// where there are multiple asynchronous steps and the Python side is going\n",
              "// to poll for completion of each step.\n",
              "// This uses a Promise to block the python side on completion of each step,\n",
              "// then passes the result of the previous step as the input to the next step.\n",
              "function _uploadFilesContinue(outputId) {\n",
              "  const outputElement = document.getElementById(outputId);\n",
              "  const steps = outputElement.steps;\n",
              "\n",
              "  const next = steps.next(outputElement.lastPromiseValue);\n",
              "  return Promise.resolve(next.value.promise).then((value) => {\n",
              "    // Cache the last promise value to make it available to the next\n",
              "    // step of the generator.\n",
              "    outputElement.lastPromiseValue = value;\n",
              "    return next.value.response;\n",
              "  });\n",
              "}\n",
              "\n",
              "/**\n",
              " * Generator function which is called between each async step of the upload\n",
              " * process.\n",
              " * @param {string} inputId Element ID of the input file picker element.\n",
              " * @param {string} outputId Element ID of the output display.\n",
              " * @return {!Iterable<!Object>} Iterable of next steps.\n",
              " */\n",
              "function* uploadFilesStep(inputId, outputId) {\n",
              "  const inputElement = document.getElementById(inputId);\n",
              "  inputElement.disabled = false;\n",
              "\n",
              "  const outputElement = document.getElementById(outputId);\n",
              "  outputElement.innerHTML = '';\n",
              "\n",
              "  const pickedPromise = new Promise((resolve) => {\n",
              "    inputElement.addEventListener('change', (e) => {\n",
              "      resolve(e.target.files);\n",
              "    });\n",
              "  });\n",
              "\n",
              "  const cancel = document.createElement('button');\n",
              "  inputElement.parentElement.appendChild(cancel);\n",
              "  cancel.textContent = 'Cancel upload';\n",
              "  const cancelPromise = new Promise((resolve) => {\n",
              "    cancel.onclick = () => {\n",
              "      resolve(null);\n",
              "    };\n",
              "  });\n",
              "\n",
              "  // Wait for the user to pick the files.\n",
              "  const files = yield {\n",
              "    promise: Promise.race([pickedPromise, cancelPromise]),\n",
              "    response: {\n",
              "      action: 'starting',\n",
              "    }\n",
              "  };\n",
              "\n",
              "  cancel.remove();\n",
              "\n",
              "  // Disable the input element since further picks are not allowed.\n",
              "  inputElement.disabled = true;\n",
              "\n",
              "  if (!files) {\n",
              "    return {\n",
              "      response: {\n",
              "        action: 'complete',\n",
              "      }\n",
              "    };\n",
              "  }\n",
              "\n",
              "  for (const file of files) {\n",
              "    const li = document.createElement('li');\n",
              "    li.append(span(file.name, {fontWeight: 'bold'}));\n",
              "    li.append(span(\n",
              "        `(${file.type || 'n/a'}) - ${file.size} bytes, ` +\n",
              "        `last modified: ${\n",
              "            file.lastModifiedDate ? file.lastModifiedDate.toLocaleDateString() :\n",
              "                                    'n/a'} - `));\n",
              "    const percent = span('0% done');\n",
              "    li.appendChild(percent);\n",
              "\n",
              "    outputElement.appendChild(li);\n",
              "\n",
              "    const fileDataPromise = new Promise((resolve) => {\n",
              "      const reader = new FileReader();\n",
              "      reader.onload = (e) => {\n",
              "        resolve(e.target.result);\n",
              "      };\n",
              "      reader.readAsArrayBuffer(file);\n",
              "    });\n",
              "    // Wait for the data to be ready.\n",
              "    let fileData = yield {\n",
              "      promise: fileDataPromise,\n",
              "      response: {\n",
              "        action: 'continue',\n",
              "      }\n",
              "    };\n",
              "\n",
              "    // Use a chunked sending to avoid message size limits. See b/62115660.\n",
              "    let position = 0;\n",
              "    do {\n",
              "      const length = Math.min(fileData.byteLength - position, MAX_PAYLOAD_SIZE);\n",
              "      const chunk = new Uint8Array(fileData, position, length);\n",
              "      position += length;\n",
              "\n",
              "      const base64 = btoa(String.fromCharCode.apply(null, chunk));\n",
              "      yield {\n",
              "        response: {\n",
              "          action: 'append',\n",
              "          file: file.name,\n",
              "          data: base64,\n",
              "        },\n",
              "      };\n",
              "\n",
              "      let percentDone = fileData.byteLength === 0 ?\n",
              "          100 :\n",
              "          Math.round((position / fileData.byteLength) * 100);\n",
              "      percent.textContent = `${percentDone}% done`;\n",
              "\n",
              "    } while (position < fileData.byteLength);\n",
              "  }\n",
              "\n",
              "  // All done.\n",
              "  yield {\n",
              "    response: {\n",
              "      action: 'complete',\n",
              "    }\n",
              "  };\n",
              "}\n",
              "\n",
              "scope.google = scope.google || {};\n",
              "scope.google.colab = scope.google.colab || {};\n",
              "scope.google.colab._files = {\n",
              "  _uploadFiles,\n",
              "  _uploadFilesContinue,\n",
              "};\n",
              "})(self);\n",
              "</script> "
            ]
          },
          "metadata": {}
        },
        {
          "output_type": "stream",
          "name": "stdout",
          "text": [
            "Saving hw_200.csv to hw_200.csv\n"
          ]
        }
      ]
    },
    {
      "cell_type": "markdown",
      "source": [
        "## Menampilkan 5 baris pertama"
      ],
      "metadata": {
        "id": "Gkgac2ul6UJl"
      }
    },
    {
      "cell_type": "code",
      "source": [
        "print(\"\\nData dari File CSV:\")\n",
        "print(df_csv.head())"
      ],
      "metadata": {
        "colab": {
          "base_uri": "https://localhost:8080/"
        },
        "collapsed": true,
        "id": "V0GkGj-n6TT_",
        "outputId": "04967d85-cd76-4d8c-8fea-c0e46e066726"
      },
      "execution_count": null,
      "outputs": [
        {
          "output_type": "stream",
          "name": "stdout",
          "text": [
            "\n",
            "Data dari File CSV:\n",
            "   Index   Height(Inches)\"   \"Weight(Pounds)\"\n",
            "0      1             65.78             112.99\n",
            "1      2             71.52             136.49\n",
            "2      3             69.40             153.03\n",
            "3      4             68.22             142.34\n",
            "4      5             67.79             144.30\n"
          ]
        }
      ]
    },
    {
      "cell_type": "markdown",
      "source": [
        "## Menganalisis data"
      ],
      "metadata": {
        "id": "KcL-9_Vk6ctH"
      }
    },
    {
      "cell_type": "code",
      "source": [
        "\n",
        "print(\"\\nRingkasan Statistik Data CSV:\")\n",
        "print(df_csv.describe())"
      ],
      "metadata": {
        "colab": {
          "base_uri": "https://localhost:8080/"
        },
        "id": "8OBqpe4O6uQc",
        "outputId": "a1ba35bc-9f92-4485-9f73-f4dd0b2794b3"
      },
      "execution_count": null,
      "outputs": [
        {
          "output_type": "stream",
          "name": "stdout",
          "text": [
            "\n",
            "Ringkasan Statistik Data CSV:\n",
            "            Index   Height(Inches)\"   \"Weight(Pounds)\"\n",
            "count  200.000000        200.000000         200.000000\n",
            "mean   100.500000         67.949800         127.221950\n",
            "std     57.879185          1.940363          11.960959\n",
            "min      1.000000         63.430000          97.900000\n",
            "25%     50.750000         66.522500         119.895000\n",
            "50%    100.500000         67.935000         127.875000\n",
            "75%    150.250000         69.202500         136.097500\n",
            "max    200.000000         73.900000         158.960000\n"
          ]
        }
      ]
    },
    {
      "cell_type": "markdown",
      "source": [
        "# Studi Kasus"
      ],
      "metadata": {
        "id": "PVSpzqCD7Bqk"
      }
    },
    {
      "cell_type": "markdown",
      "source": [
        " =====================================\n",
        "# Bagian 5: Membuat Dataset Penjualan\n",
        " ====================================="
      ],
      "metadata": {
        "id": "8dblyMXs6f-a"
      }
    },
    {
      "cell_type": "code",
      "source": [
        "products = [\"Produk A\", \"Produk B\", \"Produk C\", \"Produk D\", \"Produk E\"]\n",
        "\n",
        "months = [\"Januari\", \"Februari\", \"Maret\", \"April\", \"Mei\", \"Juni\",\n",
        "          \"Juli\", \"Agustus\", \"September\", \"Oktober\", \"November\", \"Desember\"]\n",
        "\n",
        "np.random.seed(42)\n",
        "data = {\n",
        "    \"Bulan\": np.tile(months, len(products)), # mengulang array sebanyak banyaknya produk\n",
        "    \"Produk\": np.repeat(products, len(months)), # mengulang setiap elemen dalam array sejumlah banyaknya bulan\n",
        "    \"Jumlah Terjual (unit)\": np.random.randint(50, 200, size=len(products) * len(months)),\n",
        "    \"Harga per Unit (Rp)\": np.random.randint(10000, 50000, size=len(products) * len(months))\n",
        "}\n",
        "\n",
        "# Membuat DataFrame\n",
        "df_sales = pd.DataFrame(data)"
      ],
      "metadata": {
        "id": "1enxJKRk7Dae"
      },
      "execution_count": null,
      "outputs": []
    },
    {
      "cell_type": "markdown",
      "source": [
        "## Menampilkan 10 baris pertama"
      ],
      "metadata": {
        "id": "E3oM1Brq6jzX"
      }
    },
    {
      "cell_type": "code",
      "source": [
        "# Menampilkan dataset\n",
        "print(\"Dataset Penjualan:\")\n",
        "df_sales.head(10)"
      ],
      "metadata": {
        "colab": {
          "base_uri": "https://localhost:8080/",
          "height": 380
        },
        "id": "kub7tBB07YPM",
        "outputId": "0762b0db-b7ef-40c0-ebac-c3f35dc7954e"
      },
      "execution_count": null,
      "outputs": [
        {
          "output_type": "stream",
          "name": "stdout",
          "text": [
            "Dataset Penjualan:\n"
          ]
        },
        {
          "output_type": "execute_result",
          "data": {
            "text/plain": [
              "       Bulan    Produk  Jumlah Terjual (unit)  Harga per Unit (Rp)\n",
              "0    Januari  Produk A                    152                19692\n",
              "1   Februari  Produk A                    142                16873\n",
              "2      Maret  Produk A                     64                15675\n",
              "3      April  Produk A                    156                10161\n",
              "4        Mei  Produk A                    121                47065\n",
              "5       Juni  Produk A                     70                36557\n",
              "6       Juli  Produk A                    152                43763\n",
              "7    Agustus  Produk A                    171                42606\n",
              "8  September  Produk A                    124                21534\n",
              "9    Oktober  Produk A                    137                39127"
            ],
            "text/html": [
              "\n",
              "  <div id=\"df-af522043-b538-42bf-a91a-686bf40994e0\" class=\"colab-df-container\">\n",
              "    <div>\n",
              "<style scoped>\n",
              "    .dataframe tbody tr th:only-of-type {\n",
              "        vertical-align: middle;\n",
              "    }\n",
              "\n",
              "    .dataframe tbody tr th {\n",
              "        vertical-align: top;\n",
              "    }\n",
              "\n",
              "    .dataframe thead th {\n",
              "        text-align: right;\n",
              "    }\n",
              "</style>\n",
              "<table border=\"1\" class=\"dataframe\">\n",
              "  <thead>\n",
              "    <tr style=\"text-align: right;\">\n",
              "      <th></th>\n",
              "      <th>Bulan</th>\n",
              "      <th>Produk</th>\n",
              "      <th>Jumlah Terjual (unit)</th>\n",
              "      <th>Harga per Unit (Rp)</th>\n",
              "    </tr>\n",
              "  </thead>\n",
              "  <tbody>\n",
              "    <tr>\n",
              "      <th>0</th>\n",
              "      <td>Januari</td>\n",
              "      <td>Produk A</td>\n",
              "      <td>152</td>\n",
              "      <td>19692</td>\n",
              "    </tr>\n",
              "    <tr>\n",
              "      <th>1</th>\n",
              "      <td>Februari</td>\n",
              "      <td>Produk A</td>\n",
              "      <td>142</td>\n",
              "      <td>16873</td>\n",
              "    </tr>\n",
              "    <tr>\n",
              "      <th>2</th>\n",
              "      <td>Maret</td>\n",
              "      <td>Produk A</td>\n",
              "      <td>64</td>\n",
              "      <td>15675</td>\n",
              "    </tr>\n",
              "    <tr>\n",
              "      <th>3</th>\n",
              "      <td>April</td>\n",
              "      <td>Produk A</td>\n",
              "      <td>156</td>\n",
              "      <td>10161</td>\n",
              "    </tr>\n",
              "    <tr>\n",
              "      <th>4</th>\n",
              "      <td>Mei</td>\n",
              "      <td>Produk A</td>\n",
              "      <td>121</td>\n",
              "      <td>47065</td>\n",
              "    </tr>\n",
              "    <tr>\n",
              "      <th>5</th>\n",
              "      <td>Juni</td>\n",
              "      <td>Produk A</td>\n",
              "      <td>70</td>\n",
              "      <td>36557</td>\n",
              "    </tr>\n",
              "    <tr>\n",
              "      <th>6</th>\n",
              "      <td>Juli</td>\n",
              "      <td>Produk A</td>\n",
              "      <td>152</td>\n",
              "      <td>43763</td>\n",
              "    </tr>\n",
              "    <tr>\n",
              "      <th>7</th>\n",
              "      <td>Agustus</td>\n",
              "      <td>Produk A</td>\n",
              "      <td>171</td>\n",
              "      <td>42606</td>\n",
              "    </tr>\n",
              "    <tr>\n",
              "      <th>8</th>\n",
              "      <td>September</td>\n",
              "      <td>Produk A</td>\n",
              "      <td>124</td>\n",
              "      <td>21534</td>\n",
              "    </tr>\n",
              "    <tr>\n",
              "      <th>9</th>\n",
              "      <td>Oktober</td>\n",
              "      <td>Produk A</td>\n",
              "      <td>137</td>\n",
              "      <td>39127</td>\n",
              "    </tr>\n",
              "  </tbody>\n",
              "</table>\n",
              "</div>\n",
              "    <div class=\"colab-df-buttons\">\n",
              "\n",
              "  <div class=\"colab-df-container\">\n",
              "    <button class=\"colab-df-convert\" onclick=\"convertToInteractive('df-af522043-b538-42bf-a91a-686bf40994e0')\"\n",
              "            title=\"Convert this dataframe to an interactive table.\"\n",
              "            style=\"display:none;\">\n",
              "\n",
              "  <svg xmlns=\"http://www.w3.org/2000/svg\" height=\"24px\" viewBox=\"0 -960 960 960\">\n",
              "    <path d=\"M120-120v-720h720v720H120Zm60-500h600v-160H180v160Zm220 220h160v-160H400v160Zm0 220h160v-160H400v160ZM180-400h160v-160H180v160Zm440 0h160v-160H620v160ZM180-180h160v-160H180v160Zm440 0h160v-160H620v160Z\"/>\n",
              "  </svg>\n",
              "    </button>\n",
              "\n",
              "  <style>\n",
              "    .colab-df-container {\n",
              "      display:flex;\n",
              "      gap: 12px;\n",
              "    }\n",
              "\n",
              "    .colab-df-convert {\n",
              "      background-color: #E8F0FE;\n",
              "      border: none;\n",
              "      border-radius: 50%;\n",
              "      cursor: pointer;\n",
              "      display: none;\n",
              "      fill: #1967D2;\n",
              "      height: 32px;\n",
              "      padding: 0 0 0 0;\n",
              "      width: 32px;\n",
              "    }\n",
              "\n",
              "    .colab-df-convert:hover {\n",
              "      background-color: #E2EBFA;\n",
              "      box-shadow: 0px 1px 2px rgba(60, 64, 67, 0.3), 0px 1px 3px 1px rgba(60, 64, 67, 0.15);\n",
              "      fill: #174EA6;\n",
              "    }\n",
              "\n",
              "    .colab-df-buttons div {\n",
              "      margin-bottom: 4px;\n",
              "    }\n",
              "\n",
              "    [theme=dark] .colab-df-convert {\n",
              "      background-color: #3B4455;\n",
              "      fill: #D2E3FC;\n",
              "    }\n",
              "\n",
              "    [theme=dark] .colab-df-convert:hover {\n",
              "      background-color: #434B5C;\n",
              "      box-shadow: 0px 1px 3px 1px rgba(0, 0, 0, 0.15);\n",
              "      filter: drop-shadow(0px 1px 2px rgba(0, 0, 0, 0.3));\n",
              "      fill: #FFFFFF;\n",
              "    }\n",
              "  </style>\n",
              "\n",
              "    <script>\n",
              "      const buttonEl =\n",
              "        document.querySelector('#df-af522043-b538-42bf-a91a-686bf40994e0 button.colab-df-convert');\n",
              "      buttonEl.style.display =\n",
              "        google.colab.kernel.accessAllowed ? 'block' : 'none';\n",
              "\n",
              "      async function convertToInteractive(key) {\n",
              "        const element = document.querySelector('#df-af522043-b538-42bf-a91a-686bf40994e0');\n",
              "        const dataTable =\n",
              "          await google.colab.kernel.invokeFunction('convertToInteractive',\n",
              "                                                    [key], {});\n",
              "        if (!dataTable) return;\n",
              "\n",
              "        const docLinkHtml = 'Like what you see? Visit the ' +\n",
              "          '<a target=\"_blank\" href=https://colab.research.google.com/notebooks/data_table.ipynb>data table notebook</a>'\n",
              "          + ' to learn more about interactive tables.';\n",
              "        element.innerHTML = '';\n",
              "        dataTable['output_type'] = 'display_data';\n",
              "        await google.colab.output.renderOutput(dataTable, element);\n",
              "        const docLink = document.createElement('div');\n",
              "        docLink.innerHTML = docLinkHtml;\n",
              "        element.appendChild(docLink);\n",
              "      }\n",
              "    </script>\n",
              "  </div>\n",
              "\n",
              "\n",
              "<div id=\"df-9be7aa0a-549f-4100-b36a-f89d864bf320\">\n",
              "  <button class=\"colab-df-quickchart\" onclick=\"quickchart('df-9be7aa0a-549f-4100-b36a-f89d864bf320')\"\n",
              "            title=\"Suggest charts\"\n",
              "            style=\"display:none;\">\n",
              "\n",
              "<svg xmlns=\"http://www.w3.org/2000/svg\" height=\"24px\"viewBox=\"0 0 24 24\"\n",
              "     width=\"24px\">\n",
              "    <g>\n",
              "        <path d=\"M19 3H5c-1.1 0-2 .9-2 2v14c0 1.1.9 2 2 2h14c1.1 0 2-.9 2-2V5c0-1.1-.9-2-2-2zM9 17H7v-7h2v7zm4 0h-2V7h2v10zm4 0h-2v-4h2v4z\"/>\n",
              "    </g>\n",
              "</svg>\n",
              "  </button>\n",
              "\n",
              "<style>\n",
              "  .colab-df-quickchart {\n",
              "      --bg-color: #E8F0FE;\n",
              "      --fill-color: #1967D2;\n",
              "      --hover-bg-color: #E2EBFA;\n",
              "      --hover-fill-color: #174EA6;\n",
              "      --disabled-fill-color: #AAA;\n",
              "      --disabled-bg-color: #DDD;\n",
              "  }\n",
              "\n",
              "  [theme=dark] .colab-df-quickchart {\n",
              "      --bg-color: #3B4455;\n",
              "      --fill-color: #D2E3FC;\n",
              "      --hover-bg-color: #434B5C;\n",
              "      --hover-fill-color: #FFFFFF;\n",
              "      --disabled-bg-color: #3B4455;\n",
              "      --disabled-fill-color: #666;\n",
              "  }\n",
              "\n",
              "  .colab-df-quickchart {\n",
              "    background-color: var(--bg-color);\n",
              "    border: none;\n",
              "    border-radius: 50%;\n",
              "    cursor: pointer;\n",
              "    display: none;\n",
              "    fill: var(--fill-color);\n",
              "    height: 32px;\n",
              "    padding: 0;\n",
              "    width: 32px;\n",
              "  }\n",
              "\n",
              "  .colab-df-quickchart:hover {\n",
              "    background-color: var(--hover-bg-color);\n",
              "    box-shadow: 0 1px 2px rgba(60, 64, 67, 0.3), 0 1px 3px 1px rgba(60, 64, 67, 0.15);\n",
              "    fill: var(--button-hover-fill-color);\n",
              "  }\n",
              "\n",
              "  .colab-df-quickchart-complete:disabled,\n",
              "  .colab-df-quickchart-complete:disabled:hover {\n",
              "    background-color: var(--disabled-bg-color);\n",
              "    fill: var(--disabled-fill-color);\n",
              "    box-shadow: none;\n",
              "  }\n",
              "\n",
              "  .colab-df-spinner {\n",
              "    border: 2px solid var(--fill-color);\n",
              "    border-color: transparent;\n",
              "    border-bottom-color: var(--fill-color);\n",
              "    animation:\n",
              "      spin 1s steps(1) infinite;\n",
              "  }\n",
              "\n",
              "  @keyframes spin {\n",
              "    0% {\n",
              "      border-color: transparent;\n",
              "      border-bottom-color: var(--fill-color);\n",
              "      border-left-color: var(--fill-color);\n",
              "    }\n",
              "    20% {\n",
              "      border-color: transparent;\n",
              "      border-left-color: var(--fill-color);\n",
              "      border-top-color: var(--fill-color);\n",
              "    }\n",
              "    30% {\n",
              "      border-color: transparent;\n",
              "      border-left-color: var(--fill-color);\n",
              "      border-top-color: var(--fill-color);\n",
              "      border-right-color: var(--fill-color);\n",
              "    }\n",
              "    40% {\n",
              "      border-color: transparent;\n",
              "      border-right-color: var(--fill-color);\n",
              "      border-top-color: var(--fill-color);\n",
              "    }\n",
              "    60% {\n",
              "      border-color: transparent;\n",
              "      border-right-color: var(--fill-color);\n",
              "    }\n",
              "    80% {\n",
              "      border-color: transparent;\n",
              "      border-right-color: var(--fill-color);\n",
              "      border-bottom-color: var(--fill-color);\n",
              "    }\n",
              "    90% {\n",
              "      border-color: transparent;\n",
              "      border-bottom-color: var(--fill-color);\n",
              "    }\n",
              "  }\n",
              "</style>\n",
              "\n",
              "  <script>\n",
              "    async function quickchart(key) {\n",
              "      const quickchartButtonEl =\n",
              "        document.querySelector('#' + key + ' button');\n",
              "      quickchartButtonEl.disabled = true;  // To prevent multiple clicks.\n",
              "      quickchartButtonEl.classList.add('colab-df-spinner');\n",
              "      try {\n",
              "        const charts = await google.colab.kernel.invokeFunction(\n",
              "            'suggestCharts', [key], {});\n",
              "      } catch (error) {\n",
              "        console.error('Error during call to suggestCharts:', error);\n",
              "      }\n",
              "      quickchartButtonEl.classList.remove('colab-df-spinner');\n",
              "      quickchartButtonEl.classList.add('colab-df-quickchart-complete');\n",
              "    }\n",
              "    (() => {\n",
              "      let quickchartButtonEl =\n",
              "        document.querySelector('#df-9be7aa0a-549f-4100-b36a-f89d864bf320 button');\n",
              "      quickchartButtonEl.style.display =\n",
              "        google.colab.kernel.accessAllowed ? 'block' : 'none';\n",
              "    })();\n",
              "  </script>\n",
              "</div>\n",
              "\n",
              "    </div>\n",
              "  </div>\n"
            ],
            "application/vnd.google.colaboratory.intrinsic+json": {
              "type": "dataframe",
              "variable_name": "df_sales",
              "summary": "{\n  \"name\": \"df_sales\",\n  \"rows\": 60,\n  \"fields\": [\n    {\n      \"column\": \"Bulan\",\n      \"properties\": {\n        \"dtype\": \"category\",\n        \"num_unique_values\": 12,\n        \"samples\": [\n          \"November\",\n          \"Oktober\",\n          \"Januari\"\n        ],\n        \"semantic_type\": \"\",\n        \"description\": \"\"\n      }\n    },\n    {\n      \"column\": \"Produk\",\n      \"properties\": {\n        \"dtype\": \"category\",\n        \"num_unique_values\": 5,\n        \"samples\": [\n          \"Produk B\",\n          \"Produk E\",\n          \"Produk C\"\n        ],\n        \"semantic_type\": \"\",\n        \"description\": \"\"\n      }\n    },\n    {\n      \"column\": \"Jumlah Terjual (unit)\",\n      \"properties\": {\n        \"dtype\": \"number\",\n        \"std\": 41,\n        \"min\": 51,\n        \"max\": 199,\n        \"num_unique_values\": 46,\n        \"samples\": [\n          84,\n          104,\n          113\n        ],\n        \"semantic_type\": \"\",\n        \"description\": \"\"\n      }\n    },\n    {\n      \"column\": \"Harga per Unit (Rp)\",\n      \"properties\": {\n        \"dtype\": \"number\",\n        \"std\": 11925,\n        \"min\": 10161,\n        \"max\": 49976,\n        \"num_unique_values\": 60,\n        \"samples\": [\n          19692,\n          36557,\n          13561\n        ],\n        \"semantic_type\": \"\",\n        \"description\": \"\"\n      }\n    }\n  ]\n}"
            }
          },
          "metadata": {},
          "execution_count": 20
        }
      ]
    },
    {
      "cell_type": "markdown",
      "source": [
        "## Menghitung total pendapatan"
      ],
      "metadata": {
        "id": "cwB6EpwW6m1k"
      }
    },
    {
      "cell_type": "code",
      "source": [
        "df_sales[\"Total Pendapatan (Rp)\"] = df_sales[\"Jumlah Terjual (unit)\"] * df_sales[\"Harga per Unit (Rp)\"]"
      ],
      "metadata": {
        "id": "VIoZI4767cFa"
      },
      "execution_count": null,
      "outputs": []
    },
    {
      "cell_type": "code",
      "source": [
        "# Menampilkan dataset\n",
        "print(\"Dataset Penjualan:\")\n",
        "df_sales.head(10) # Menampilkan 10 baris pertama"
      ],
      "metadata": {
        "colab": {
          "base_uri": "https://localhost:8080/",
          "height": 380
        },
        "id": "-x_5FF_l7i-r",
        "outputId": "35f7e46b-d194-46ea-8530-0be895cf3034"
      },
      "execution_count": null,
      "outputs": [
        {
          "output_type": "stream",
          "name": "stdout",
          "text": [
            "Dataset Penjualan:\n"
          ]
        },
        {
          "output_type": "execute_result",
          "data": {
            "text/plain": [
              "       Bulan    Produk  Jumlah Terjual (unit)  Harga per Unit (Rp)  \\\n",
              "0    Januari  Produk A                    152                19692   \n",
              "1   Februari  Produk A                    142                16873   \n",
              "2      Maret  Produk A                     64                15675   \n",
              "3      April  Produk A                    156                10161   \n",
              "4        Mei  Produk A                    121                47065   \n",
              "5       Juni  Produk A                     70                36557   \n",
              "6       Juli  Produk A                    152                43763   \n",
              "7    Agustus  Produk A                    171                42606   \n",
              "8  September  Produk A                    124                21534   \n",
              "9    Oktober  Produk A                    137                39127   \n",
              "\n",
              "   Total Pendapatan (Rp)  \n",
              "0                2993184  \n",
              "1                2395966  \n",
              "2                1003200  \n",
              "3                1585116  \n",
              "4                5694865  \n",
              "5                2558990  \n",
              "6                6651976  \n",
              "7                7285626  \n",
              "8                2670216  \n",
              "9                5360399  "
            ],
            "text/html": [
              "\n",
              "  <div id=\"df-ce9a5ca5-cc27-42c2-8909-b7a09d74dcad\" class=\"colab-df-container\">\n",
              "    <div>\n",
              "<style scoped>\n",
              "    .dataframe tbody tr th:only-of-type {\n",
              "        vertical-align: middle;\n",
              "    }\n",
              "\n",
              "    .dataframe tbody tr th {\n",
              "        vertical-align: top;\n",
              "    }\n",
              "\n",
              "    .dataframe thead th {\n",
              "        text-align: right;\n",
              "    }\n",
              "</style>\n",
              "<table border=\"1\" class=\"dataframe\">\n",
              "  <thead>\n",
              "    <tr style=\"text-align: right;\">\n",
              "      <th></th>\n",
              "      <th>Bulan</th>\n",
              "      <th>Produk</th>\n",
              "      <th>Jumlah Terjual (unit)</th>\n",
              "      <th>Harga per Unit (Rp)</th>\n",
              "      <th>Total Pendapatan (Rp)</th>\n",
              "    </tr>\n",
              "  </thead>\n",
              "  <tbody>\n",
              "    <tr>\n",
              "      <th>0</th>\n",
              "      <td>Januari</td>\n",
              "      <td>Produk A</td>\n",
              "      <td>152</td>\n",
              "      <td>19692</td>\n",
              "      <td>2993184</td>\n",
              "    </tr>\n",
              "    <tr>\n",
              "      <th>1</th>\n",
              "      <td>Februari</td>\n",
              "      <td>Produk A</td>\n",
              "      <td>142</td>\n",
              "      <td>16873</td>\n",
              "      <td>2395966</td>\n",
              "    </tr>\n",
              "    <tr>\n",
              "      <th>2</th>\n",
              "      <td>Maret</td>\n",
              "      <td>Produk A</td>\n",
              "      <td>64</td>\n",
              "      <td>15675</td>\n",
              "      <td>1003200</td>\n",
              "    </tr>\n",
              "    <tr>\n",
              "      <th>3</th>\n",
              "      <td>April</td>\n",
              "      <td>Produk A</td>\n",
              "      <td>156</td>\n",
              "      <td>10161</td>\n",
              "      <td>1585116</td>\n",
              "    </tr>\n",
              "    <tr>\n",
              "      <th>4</th>\n",
              "      <td>Mei</td>\n",
              "      <td>Produk A</td>\n",
              "      <td>121</td>\n",
              "      <td>47065</td>\n",
              "      <td>5694865</td>\n",
              "    </tr>\n",
              "    <tr>\n",
              "      <th>5</th>\n",
              "      <td>Juni</td>\n",
              "      <td>Produk A</td>\n",
              "      <td>70</td>\n",
              "      <td>36557</td>\n",
              "      <td>2558990</td>\n",
              "    </tr>\n",
              "    <tr>\n",
              "      <th>6</th>\n",
              "      <td>Juli</td>\n",
              "      <td>Produk A</td>\n",
              "      <td>152</td>\n",
              "      <td>43763</td>\n",
              "      <td>6651976</td>\n",
              "    </tr>\n",
              "    <tr>\n",
              "      <th>7</th>\n",
              "      <td>Agustus</td>\n",
              "      <td>Produk A</td>\n",
              "      <td>171</td>\n",
              "      <td>42606</td>\n",
              "      <td>7285626</td>\n",
              "    </tr>\n",
              "    <tr>\n",
              "      <th>8</th>\n",
              "      <td>September</td>\n",
              "      <td>Produk A</td>\n",
              "      <td>124</td>\n",
              "      <td>21534</td>\n",
              "      <td>2670216</td>\n",
              "    </tr>\n",
              "    <tr>\n",
              "      <th>9</th>\n",
              "      <td>Oktober</td>\n",
              "      <td>Produk A</td>\n",
              "      <td>137</td>\n",
              "      <td>39127</td>\n",
              "      <td>5360399</td>\n",
              "    </tr>\n",
              "  </tbody>\n",
              "</table>\n",
              "</div>\n",
              "    <div class=\"colab-df-buttons\">\n",
              "\n",
              "  <div class=\"colab-df-container\">\n",
              "    <button class=\"colab-df-convert\" onclick=\"convertToInteractive('df-ce9a5ca5-cc27-42c2-8909-b7a09d74dcad')\"\n",
              "            title=\"Convert this dataframe to an interactive table.\"\n",
              "            style=\"display:none;\">\n",
              "\n",
              "  <svg xmlns=\"http://www.w3.org/2000/svg\" height=\"24px\" viewBox=\"0 -960 960 960\">\n",
              "    <path d=\"M120-120v-720h720v720H120Zm60-500h600v-160H180v160Zm220 220h160v-160H400v160Zm0 220h160v-160H400v160ZM180-400h160v-160H180v160Zm440 0h160v-160H620v160ZM180-180h160v-160H180v160Zm440 0h160v-160H620v160Z\"/>\n",
              "  </svg>\n",
              "    </button>\n",
              "\n",
              "  <style>\n",
              "    .colab-df-container {\n",
              "      display:flex;\n",
              "      gap: 12px;\n",
              "    }\n",
              "\n",
              "    .colab-df-convert {\n",
              "      background-color: #E8F0FE;\n",
              "      border: none;\n",
              "      border-radius: 50%;\n",
              "      cursor: pointer;\n",
              "      display: none;\n",
              "      fill: #1967D2;\n",
              "      height: 32px;\n",
              "      padding: 0 0 0 0;\n",
              "      width: 32px;\n",
              "    }\n",
              "\n",
              "    .colab-df-convert:hover {\n",
              "      background-color: #E2EBFA;\n",
              "      box-shadow: 0px 1px 2px rgba(60, 64, 67, 0.3), 0px 1px 3px 1px rgba(60, 64, 67, 0.15);\n",
              "      fill: #174EA6;\n",
              "    }\n",
              "\n",
              "    .colab-df-buttons div {\n",
              "      margin-bottom: 4px;\n",
              "    }\n",
              "\n",
              "    [theme=dark] .colab-df-convert {\n",
              "      background-color: #3B4455;\n",
              "      fill: #D2E3FC;\n",
              "    }\n",
              "\n",
              "    [theme=dark] .colab-df-convert:hover {\n",
              "      background-color: #434B5C;\n",
              "      box-shadow: 0px 1px 3px 1px rgba(0, 0, 0, 0.15);\n",
              "      filter: drop-shadow(0px 1px 2px rgba(0, 0, 0, 0.3));\n",
              "      fill: #FFFFFF;\n",
              "    }\n",
              "  </style>\n",
              "\n",
              "    <script>\n",
              "      const buttonEl =\n",
              "        document.querySelector('#df-ce9a5ca5-cc27-42c2-8909-b7a09d74dcad button.colab-df-convert');\n",
              "      buttonEl.style.display =\n",
              "        google.colab.kernel.accessAllowed ? 'block' : 'none';\n",
              "\n",
              "      async function convertToInteractive(key) {\n",
              "        const element = document.querySelector('#df-ce9a5ca5-cc27-42c2-8909-b7a09d74dcad');\n",
              "        const dataTable =\n",
              "          await google.colab.kernel.invokeFunction('convertToInteractive',\n",
              "                                                    [key], {});\n",
              "        if (!dataTable) return;\n",
              "\n",
              "        const docLinkHtml = 'Like what you see? Visit the ' +\n",
              "          '<a target=\"_blank\" href=https://colab.research.google.com/notebooks/data_table.ipynb>data table notebook</a>'\n",
              "          + ' to learn more about interactive tables.';\n",
              "        element.innerHTML = '';\n",
              "        dataTable['output_type'] = 'display_data';\n",
              "        await google.colab.output.renderOutput(dataTable, element);\n",
              "        const docLink = document.createElement('div');\n",
              "        docLink.innerHTML = docLinkHtml;\n",
              "        element.appendChild(docLink);\n",
              "      }\n",
              "    </script>\n",
              "  </div>\n",
              "\n",
              "\n",
              "<div id=\"df-959ecf1a-0a4a-4eca-9fe5-dcf29aaf536f\">\n",
              "  <button class=\"colab-df-quickchart\" onclick=\"quickchart('df-959ecf1a-0a4a-4eca-9fe5-dcf29aaf536f')\"\n",
              "            title=\"Suggest charts\"\n",
              "            style=\"display:none;\">\n",
              "\n",
              "<svg xmlns=\"http://www.w3.org/2000/svg\" height=\"24px\"viewBox=\"0 0 24 24\"\n",
              "     width=\"24px\">\n",
              "    <g>\n",
              "        <path d=\"M19 3H5c-1.1 0-2 .9-2 2v14c0 1.1.9 2 2 2h14c1.1 0 2-.9 2-2V5c0-1.1-.9-2-2-2zM9 17H7v-7h2v7zm4 0h-2V7h2v10zm4 0h-2v-4h2v4z\"/>\n",
              "    </g>\n",
              "</svg>\n",
              "  </button>\n",
              "\n",
              "<style>\n",
              "  .colab-df-quickchart {\n",
              "      --bg-color: #E8F0FE;\n",
              "      --fill-color: #1967D2;\n",
              "      --hover-bg-color: #E2EBFA;\n",
              "      --hover-fill-color: #174EA6;\n",
              "      --disabled-fill-color: #AAA;\n",
              "      --disabled-bg-color: #DDD;\n",
              "  }\n",
              "\n",
              "  [theme=dark] .colab-df-quickchart {\n",
              "      --bg-color: #3B4455;\n",
              "      --fill-color: #D2E3FC;\n",
              "      --hover-bg-color: #434B5C;\n",
              "      --hover-fill-color: #FFFFFF;\n",
              "      --disabled-bg-color: #3B4455;\n",
              "      --disabled-fill-color: #666;\n",
              "  }\n",
              "\n",
              "  .colab-df-quickchart {\n",
              "    background-color: var(--bg-color);\n",
              "    border: none;\n",
              "    border-radius: 50%;\n",
              "    cursor: pointer;\n",
              "    display: none;\n",
              "    fill: var(--fill-color);\n",
              "    height: 32px;\n",
              "    padding: 0;\n",
              "    width: 32px;\n",
              "  }\n",
              "\n",
              "  .colab-df-quickchart:hover {\n",
              "    background-color: var(--hover-bg-color);\n",
              "    box-shadow: 0 1px 2px rgba(60, 64, 67, 0.3), 0 1px 3px 1px rgba(60, 64, 67, 0.15);\n",
              "    fill: var(--button-hover-fill-color);\n",
              "  }\n",
              "\n",
              "  .colab-df-quickchart-complete:disabled,\n",
              "  .colab-df-quickchart-complete:disabled:hover {\n",
              "    background-color: var(--disabled-bg-color);\n",
              "    fill: var(--disabled-fill-color);\n",
              "    box-shadow: none;\n",
              "  }\n",
              "\n",
              "  .colab-df-spinner {\n",
              "    border: 2px solid var(--fill-color);\n",
              "    border-color: transparent;\n",
              "    border-bottom-color: var(--fill-color);\n",
              "    animation:\n",
              "      spin 1s steps(1) infinite;\n",
              "  }\n",
              "\n",
              "  @keyframes spin {\n",
              "    0% {\n",
              "      border-color: transparent;\n",
              "      border-bottom-color: var(--fill-color);\n",
              "      border-left-color: var(--fill-color);\n",
              "    }\n",
              "    20% {\n",
              "      border-color: transparent;\n",
              "      border-left-color: var(--fill-color);\n",
              "      border-top-color: var(--fill-color);\n",
              "    }\n",
              "    30% {\n",
              "      border-color: transparent;\n",
              "      border-left-color: var(--fill-color);\n",
              "      border-top-color: var(--fill-color);\n",
              "      border-right-color: var(--fill-color);\n",
              "    }\n",
              "    40% {\n",
              "      border-color: transparent;\n",
              "      border-right-color: var(--fill-color);\n",
              "      border-top-color: var(--fill-color);\n",
              "    }\n",
              "    60% {\n",
              "      border-color: transparent;\n",
              "      border-right-color: var(--fill-color);\n",
              "    }\n",
              "    80% {\n",
              "      border-color: transparent;\n",
              "      border-right-color: var(--fill-color);\n",
              "      border-bottom-color: var(--fill-color);\n",
              "    }\n",
              "    90% {\n",
              "      border-color: transparent;\n",
              "      border-bottom-color: var(--fill-color);\n",
              "    }\n",
              "  }\n",
              "</style>\n",
              "\n",
              "  <script>\n",
              "    async function quickchart(key) {\n",
              "      const quickchartButtonEl =\n",
              "        document.querySelector('#' + key + ' button');\n",
              "      quickchartButtonEl.disabled = true;  // To prevent multiple clicks.\n",
              "      quickchartButtonEl.classList.add('colab-df-spinner');\n",
              "      try {\n",
              "        const charts = await google.colab.kernel.invokeFunction(\n",
              "            'suggestCharts', [key], {});\n",
              "      } catch (error) {\n",
              "        console.error('Error during call to suggestCharts:', error);\n",
              "      }\n",
              "      quickchartButtonEl.classList.remove('colab-df-spinner');\n",
              "      quickchartButtonEl.classList.add('colab-df-quickchart-complete');\n",
              "    }\n",
              "    (() => {\n",
              "      let quickchartButtonEl =\n",
              "        document.querySelector('#df-959ecf1a-0a4a-4eca-9fe5-dcf29aaf536f button');\n",
              "      quickchartButtonEl.style.display =\n",
              "        google.colab.kernel.accessAllowed ? 'block' : 'none';\n",
              "    })();\n",
              "  </script>\n",
              "</div>\n",
              "\n",
              "    </div>\n",
              "  </div>\n"
            ],
            "application/vnd.google.colaboratory.intrinsic+json": {
              "type": "dataframe",
              "variable_name": "df_sales",
              "summary": "{\n  \"name\": \"df_sales\",\n  \"rows\": 60,\n  \"fields\": [\n    {\n      \"column\": \"Bulan\",\n      \"properties\": {\n        \"dtype\": \"category\",\n        \"num_unique_values\": 12,\n        \"samples\": [\n          \"November\",\n          \"Oktober\",\n          \"Januari\"\n        ],\n        \"semantic_type\": \"\",\n        \"description\": \"\"\n      }\n    },\n    {\n      \"column\": \"Produk\",\n      \"properties\": {\n        \"dtype\": \"category\",\n        \"num_unique_values\": 5,\n        \"samples\": [\n          \"Produk B\",\n          \"Produk E\",\n          \"Produk C\"\n        ],\n        \"semantic_type\": \"\",\n        \"description\": \"\"\n      }\n    },\n    {\n      \"column\": \"Jumlah Terjual (unit)\",\n      \"properties\": {\n        \"dtype\": \"number\",\n        \"std\": 41,\n        \"min\": 51,\n        \"max\": 199,\n        \"num_unique_values\": 46,\n        \"samples\": [\n          84,\n          104,\n          113\n        ],\n        \"semantic_type\": \"\",\n        \"description\": \"\"\n      }\n    },\n    {\n      \"column\": \"Harga per Unit (Rp)\",\n      \"properties\": {\n        \"dtype\": \"number\",\n        \"std\": 11925,\n        \"min\": 10161,\n        \"max\": 49976,\n        \"num_unique_values\": 60,\n        \"samples\": [\n          19692,\n          36557,\n          13561\n        ],\n        \"semantic_type\": \"\",\n        \"description\": \"\"\n      }\n    },\n    {\n      \"column\": \"Total Pendapatan (Rp)\",\n      \"properties\": {\n        \"dtype\": \"number\",\n        \"std\": 2151036,\n        \"min\": 804352,\n        \"max\": 8910720,\n        \"num_unique_values\": 60,\n        \"samples\": [\n          2993184,\n          2558990,\n          908587\n        ],\n        \"semantic_type\": \"\",\n        \"description\": \"\"\n      }\n    }\n  ]\n}"
            }
          },
          "metadata": {},
          "execution_count": 22
        }
      ]
    },
    {
      "cell_type": "markdown",
      "source": [
        " =====================================\n",
        "# Bagian 6: Analisis Data\n",
        " ====================================="
      ],
      "metadata": {
        "id": "6WGVLwmq6qQI"
      }
    },
    {
      "cell_type": "markdown",
      "source": [
        "## 1. Total Pendapatan Tahunan"
      ],
      "metadata": {
        "id": "V0_jm5Vg6tDh"
      }
    },
    {
      "cell_type": "code",
      "source": [
        "total_pendapatan = df_sales[\"Total Pendapatan (Rp)\"].sum()\n",
        "print(\"Total Pendapatan Tahunan: Rp\", total_pendapatan)"
      ],
      "metadata": {
        "colab": {
          "base_uri": "https://localhost:8080/"
        },
        "id": "--ek3A8z7kHi",
        "outputId": "f4f297d0-a927-4b9f-9634-eed575bb096b"
      },
      "execution_count": null,
      "outputs": [
        {
          "output_type": "stream",
          "name": "stdout",
          "text": [
            "Total Pendapatan Tahunan: Rp 224914195\n"
          ]
        }
      ]
    },
    {
      "cell_type": "markdown",
      "source": [
        "## 2. Produk Terlaris (berdasarkan total unit terjual)"
      ],
      "metadata": {
        "id": "0FSeniZs6voC"
      }
    },
    {
      "cell_type": "code",
      "source": [
        "produk_terlaris = df_sales.groupby(\"Produk\")[\"Jumlah Terjual (unit)\"].sum().idxmax()\n",
        "print(\"\\nProduk Terlaris:\", produk_terlaris)"
      ],
      "metadata": {
        "colab": {
          "base_uri": "https://localhost:8080/"
        },
        "id": "ce-Q_Izy7qNs",
        "outputId": "85f3b00b-915c-4aed-dc3b-6f90fdf980df"
      },
      "execution_count": null,
      "outputs": [
        {
          "output_type": "stream",
          "name": "stdout",
          "text": [
            "\n",
            "Produk Terlaris: Produk A\n"
          ]
        }
      ]
    },
    {
      "cell_type": "markdown",
      "source": [
        "## 3. Rata-rata Pendapatan per Bulan"
      ],
      "metadata": {
        "id": "RRpYOgev6xO2"
      }
    },
    {
      "cell_type": "code",
      "source": [
        "rata_rata_pendapatan = df_sales.groupby(\"Bulan\")[\"Total Pendapatan (Rp)\"].mean()\n",
        "print(\"\\nRata-rata Pendapatan per Bulan:\")\n",
        "print(rata_rata_pendapatan)"
      ],
      "metadata": {
        "colab": {
          "base_uri": "https://localhost:8080/"
        },
        "id": "smfkSkCx7sln",
        "outputId": "a41ffd67-2aa7-4d7b-c25f-4d6998983a3b"
      },
      "execution_count": null,
      "outputs": [
        {
          "output_type": "stream",
          "name": "stdout",
          "text": [
            "\n",
            "Rata-rata Pendapatan per Bulan:\n",
            "Bulan\n",
            "Agustus      6408126.2\n",
            "April        2267423.6\n",
            "Desember     4064504.0\n",
            "Februari     4437206.4\n",
            "Januari      3139936.6\n",
            "Juli         3272650.8\n",
            "Juni         2701931.2\n",
            "Maret        3933804.2\n",
            "Mei          3258280.2\n",
            "November     3061928.8\n",
            "Oktober      4545599.0\n",
            "September    3891448.0\n",
            "Name: Total Pendapatan (Rp), dtype: float64\n"
          ]
        }
      ]
    },
    {
      "cell_type": "markdown",
      "source": [
        "## 4. Analisis Penjualan per Produk"
      ],
      "metadata": {
        "id": "wSudvuTI6zdz"
      }
    },
    {
      "cell_type": "code",
      "source": [
        "penjualan_per_produk = df_sales.groupby(\"Produk\")[[\"Jumlah Terjual (unit)\", \"Total Pendapatan (Rp)\"]].sum()\n",
        "print(\"\\nPenjualan per Produk:\")\n",
        "print(penjualan_per_produk)"
      ],
      "metadata": {
        "colab": {
          "base_uri": "https://localhost:8080/"
        },
        "id": "RRwE4By87u8v",
        "outputId": "93054155-f27b-48ad-92c1-cb04c6fe3da6"
      },
      "execution_count": null,
      "outputs": [
        {
          "output_type": "stream",
          "name": "stdout",
          "text": [
            "\n",
            "Penjualan per Produk:\n",
            "          Jumlah Terjual (unit)  Total Pendapatan (Rp)\n",
            "Produk                                                \n",
            "Produk A                   1604               45792188\n",
            "Produk B                   1474               44423618\n",
            "Produk C                   1400               44452809\n",
            "Produk D                   1470               48957270\n",
            "Produk E                   1352               41288310\n"
          ]
        }
      ]
    }
  ]
}