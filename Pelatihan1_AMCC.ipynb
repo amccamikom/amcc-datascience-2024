{
  "nbformat": 4,
  "nbformat_minor": 0,
  "metadata": {
    "colab": {
      "provenance": [],
      "collapsed_sections": [
        "eA82bYUNRSXG",
        "o2bY8h8vTMvS"
      ]
    },
    "kernelspec": {
      "name": "python3",
      "display_name": "Python 3"
    },
    "language_info": {
      "name": "python"
    }
  },
  "cells": [
    {
      "cell_type": "markdown",
      "source": [
        "# Variabel & Tipedata"
      ],
      "metadata": {
        "id": "KKG5Cv_LNekY"
      }
    },
    {
      "cell_type": "code",
      "execution_count": null,
      "metadata": {
        "colab": {
          "base_uri": "https://localhost:8080/"
        },
        "id": "jYEWgwNuLnaM",
        "outputId": "6ddd74ff-2fc6-4228-c8cf-53a60dc643d7"
      },
      "outputs": [
        {
          "output_type": "stream",
          "name": "stdout",
          "text": [
            "Ridwan\n",
            "19\n",
            "3.75\n",
            "True\n"
          ]
        }
      ],
      "source": [
        "nama = \"Ridwan\" #string\n",
        "umur = 19 #integer\n",
        "ipk = 3.75 #float\n",
        "mahasiswa_aktif = True #booled\n",
        "\n",
        "print(nama)\n",
        "print(umur)\n",
        "print(ipk)\n",
        "print(mahasiswa_aktif)"
      ]
    },
    {
      "cell_type": "markdown",
      "source": [
        "# Struktur Kontrol"
      ],
      "metadata": {
        "id": "fJrzKLucN2j-"
      }
    },
    {
      "cell_type": "code",
      "source": [
        "#Percabangan\n",
        "nilai = 60\n",
        "\n",
        "if nilai >= 81:\n",
        "    print(\"A\")\n",
        "elif nilai >= 61:\n",
        "  print(\"B\")\n",
        "else:\n",
        "  print(\"C\")\n"
      ],
      "metadata": {
        "colab": {
          "base_uri": "https://localhost:8080/"
        },
        "id": "cUMm00bUN68m",
        "outputId": "8d2d74cd-07ad-449e-f992-2f0f44c18b81"
      },
      "execution_count": null,
      "outputs": [
        {
          "output_type": "stream",
          "name": "stdout",
          "text": [
            "C\n"
          ]
        }
      ]
    },
    {
      "cell_type": "code",
      "source": [
        "#Perulangan\n",
        "for angka in range(6):\n",
        "  print(angka + 1)"
      ],
      "metadata": {
        "colab": {
          "base_uri": "https://localhost:8080/"
        },
        "id": "RDE1FLflPNJ6",
        "outputId": "8ea4faad-d7ad-4a94-d02c-b11896f7993e"
      },
      "execution_count": null,
      "outputs": [
        {
          "output_type": "stream",
          "name": "stdout",
          "text": [
            "1\n",
            "2\n",
            "3\n",
            "4\n",
            "5\n",
            "6\n"
          ]
        }
      ]
    },
    {
      "cell_type": "code",
      "source": [
        "hitung = 1\n",
        "while hitung < 5:\n",
        "  print(hitung)\n",
        "  hitung += 1"
      ],
      "metadata": {
        "colab": {
          "base_uri": "https://localhost:8080/"
        },
        "id": "_JX5SOE0Pza-",
        "outputId": "64df3a12-2e6f-4532-9ec2-5878943532fe"
      },
      "execution_count": null,
      "outputs": [
        {
          "output_type": "stream",
          "name": "stdout",
          "text": [
            "1\n",
            "3\n"
          ]
        }
      ]
    },
    {
      "cell_type": "markdown",
      "source": [
        "# Fungsi"
      ],
      "metadata": {
        "id": "eA82bYUNRSXG"
      }
    },
    {
      "cell_type": "code",
      "source": [
        "def greet(name):\n",
        "  return f\"Hello, {name}\"\n",
        "\n",
        "print(greet(\"Rizky\"))"
      ],
      "metadata": {
        "colab": {
          "base_uri": "https://localhost:8080/"
        },
        "id": "oP45b9MaRUxy",
        "outputId": "91a03618-eab4-44a5-bffa-b93a901081b4"
      },
      "execution_count": null,
      "outputs": [
        {
          "output_type": "stream",
          "name": "stdout",
          "text": [
            "Hello, Rizky\n"
          ]
        }
      ]
    },
    {
      "cell_type": "markdown",
      "source": [
        "# Struktur Data"
      ],
      "metadata": {
        "id": "o2bY8h8vTMvS"
      }
    },
    {
      "cell_type": "code",
      "source": [
        "#Tuple\n",
        "\n",
        "colors = (\"merah\",\"kuning\",\"hijau\")\n",
        "for color in colors:\n",
        "  print(\"Warna : \" + color)"
      ],
      "metadata": {
        "colab": {
          "base_uri": "https://localhost:8080/"
        },
        "id": "j1K2p1RmTMbN",
        "outputId": "9519f1c6-b52f-4f8d-c22a-cce0ee4e5354"
      },
      "execution_count": null,
      "outputs": [
        {
          "output_type": "stream",
          "name": "stdout",
          "text": [
            "Warna : merah\n",
            "Warna : kuning\n",
            "Warna : hijau\n"
          ]
        }
      ]
    },
    {
      "cell_type": "code",
      "source": [
        "#list\n",
        "\n",
        "fruits = [\"apel\",\"jeruk\",\"mangga\"]\n",
        "fruits.remove(\"apel\")\n",
        "for fruit in fruits:\n",
        "  print(fruit)\n"
      ],
      "metadata": {
        "colab": {
          "base_uri": "https://localhost:8080/"
        },
        "id": "lQumRfM4UVy0",
        "outputId": "d7402f92-852b-46b3-d919-ae3ad3786a9c"
      },
      "execution_count": null,
      "outputs": [
        {
          "output_type": "stream",
          "name": "stdout",
          "text": [
            "jeruk\n",
            "mangga\n"
          ]
        }
      ]
    },
    {
      "cell_type": "code",
      "source": [
        "#dictionary\n",
        "\n",
        "data = {\"Nama depan :\" : \"arden\", \"Nama Belakang :\" : \"Yolandra\", \"Umur :\" : 19}\n",
        "for key, value in data.items():\n",
        "  print(key, value)"
      ],
      "metadata": {
        "colab": {
          "base_uri": "https://localhost:8080/"
        },
        "id": "kaM4lxrLVOQw",
        "outputId": "4495c812-b405-49c2-d747-3ff0874af1d4"
      },
      "execution_count": 1,
      "outputs": [
        {
          "output_type": "stream",
          "name": "stdout",
          "text": [
            "Nama depan : arden\n",
            "Nama Belakang : Yolandra\n",
            "Umur : 19\n"
          ]
        }
      ]
    },
    {
      "cell_type": "code",
      "source": [
        "#set\n",
        "\n",
        "numbers = {1,2,3,3,4,5,5}\n",
        "print(numbers)"
      ],
      "metadata": {
        "colab": {
          "base_uri": "https://localhost:8080/"
        },
        "id": "cMAhIrcVW0BW",
        "outputId": "3021f639-45a3-449a-a7cf-7919d883ccc9"
      },
      "execution_count": null,
      "outputs": [
        {
          "output_type": "stream",
          "name": "stdout",
          "text": [
            "{1, 2, 3, 4, 5}\n"
          ]
        }
      ]
    }
  ]
}